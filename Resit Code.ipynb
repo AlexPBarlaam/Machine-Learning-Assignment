{
 "cells": [
  {
   "cell_type": "code",
   "execution_count": 1,
   "id": "6e43d7cd",
   "metadata": {},
   "outputs": [],
   "source": [
    "import pandas as pd\n",
    "import numpy as np\n",
    "import matplotlib.pyplot as plt"
   ]
  },
  {
   "cell_type": "code",
   "execution_count": 2,
   "id": "69947bd1",
   "metadata": {},
   "outputs": [],
   "source": [
    "#Section 1.1\n",
    "def pol_regression(features_train, y_train, degree):\n",
    "    '''args: given as 1D numpy arrays\n",
    "    \n",
    "        features_train: input x in dataset\n",
    "        y_train : output y in dataset\n",
    "        degree : degree of polynomial\n",
    "    '''   \n",
    "    #Gets Polynimial Data Matrix from helper function\n",
    "    parameters = DataMatrix(features_train, degree)\n",
    "    \n",
    "    #calculates the dot product of the transpose of the polynomial matrix and the polynomial matrix\n",
    "    TM = parameters.transpose().dot(parameters)\n",
    "    \n",
    "    #solves the least squares equation to give the polynomial coefficients \n",
    "    polynomial_coefficients = np.linalg.solve(TM, parameters.transpose().dot(y_train))\n",
    "    \n",
    "    return polynomial_coefficients\n",
    "    \n",
    "def DataMatrix(features_train, degree):\n",
    "    #setting up the polymonial matrix\n",
    "    PolDataMatrix = np.ones(features_train.shape)\n",
    "    \n",
    "    #filling the data matrix\n",
    "    for i in range(1,degree + 1):\n",
    "        PolDataMatrix = np.column_stack((PolDataMatrix, features_train ** i))\n",
    "    \n",
    "    return PolDataMatrix"
   ]
  },
  {
   "cell_type": "code",
   "execution_count": 3,
   "id": "148aea37",
   "metadata": {},
   "outputs": [],
   "source": [
    "#Data Preparation - Section 1\n",
    "pRdata = pd.read_csv('Task1 - dataset - pol_regression.csv')\n",
    "\n",
    "x_train = np.array(pRdata['x'])\n",
    "y_train = np.array(pRdata['y'])"
   ]
  },
  {
   "cell_type": "code",
   "execution_count": 10,
   "id": "560f516d",
   "metadata": {
    "scrolled": false
   },
   "outputs": [],
   "source": [
    "#Section 1.2\n",
    "\n",
    "x = np.linspace(-5,5,100) #values to plot the results\n",
    "\n",
    "coefficients_1 = pol_regression(x_train, y_train, 1)\n",
    "X1 = DataMatrix(x, 1)\n",
    "Y1 = X1.dot(coefficients_1)\n",
    "\n",
    "coefficients_2 = pol_regression(x_train, y_train, 2)\n",
    "X2 = DataMatrix(x, 2)\n",
    "Y2 = X2.dot(coefficients_2)\n",
    "\n",
    "coefficients_3 = pol_regression(x_train, y_train, 3)\n",
    "X3 = DataMatrix(x, 3)\n",
    "Y3 = X3.dot(coefficients_3)\n",
    "\n",
    "coefficients_6 = pol_regression(x_train, y_train, 6)\n",
    "X6 = DataMatrix(x, 6)\n",
    "Y6 = X6.dot(coefficients_6)\n",
    "\n",
    "coefficients_10 = pol_regression(x_train, y_train, 10)\n",
    "X10 = DataMatrix(x, 10)\n",
    "Y10 = X10.dot(coefficients_10)"
   ]
  },
  {
   "cell_type": "code",
   "execution_count": 11,
   "id": "05c69b25",
   "metadata": {},
   "outputs": [
    {
     "data": {
      "text/plain": [
       "(array([   2.74630005,  -11.02279117,  -12.98683382,   -1.47182176,\n",
       "          13.10439743,    7.20001673,  -76.30102191,  -32.86225465,\n",
       "        -129.76127146,    0.99504643, -159.8941635 ,    0.30627251,\n",
       "          -1.64211616,    0.55745667,  -11.86697725,   -6.91019669,\n",
       "        -166.8444223 ,  -14.60409868,  -18.0978666 ,   -3.108094  ]),\n",
       " -31.123222006933513)"
      ]
     },
     "execution_count": 11,
     "metadata": {},
     "output_type": "execute_result"
    }
   ],
   "source": [
    "# mean of entire dataset calculated\n",
    "dataset = np.add(x_train, y_train)\n",
    "y0 = np.mean(dataset)\n",
    "\n",
    "#np array filled with constant for plotting\n",
    "Y0 = np.full((100),y0)\n",
    "dataset ,y0"
   ]
  },
  {
   "cell_type": "code",
   "execution_count": 7,
   "id": "8552b150",
   "metadata": {},
   "outputs": [
    {
     "data": {
      "text/plain": [
       "(-200.0, 50.0)"
      ]
     },
     "execution_count": 7,
     "metadata": {},
     "output_type": "execute_result"
    },
    {
     "data": {
      "image/png": "[encoded data removed]",
      "text/plain": [
       "<Figure size 432x288 with 1 Axes>"
      ]
     },
     "metadata": {
      "needs_background": "light"
     },
     "output_type": "display_data"
    }
   ],
   "source": [
    "#plotting the polynomials\n",
    "plt.figure()\n",
    "plt.plot(x_train, y_train, 'k*')\n",
    "plt.plot(x, Y0, 'm')\n",
    "plt.plot(x, Y1, 'r')\n",
    "plt.plot(x, Y2, 'b')\n",
    "plt.plot(x, Y3, 'y')\n",
    "plt.plot(x, Y6, 'g')\n",
    "plt.plot(x, Y10, 'c')\n",
    "\n",
    "plt.legend(('training points', '$x^0$','$x^1$', '$x^2$', '$x^3$', '$x^6$', '$x^10$'), loc = 'lower right')\n",
    "\n",
    "#limits the y axis of the graph\n",
    "plt.ylim(-200, 50)"
   ]
  },
  {
   "cell_type": "code",
   "execution_count": 19,
   "id": "0ecb7084",
   "metadata": {},
   "outputs": [
    {
     "data": {
      "text/plain": [
       "(35.02106539156851,\n",
       " 20.98141944608093,\n",
       " 5.254699562089331,\n",
       " 4.742478602104725,\n",
       " 4.298818412248267)"
      ]
     },
     "execution_count": 19,
     "metadata": {},
     "output_type": "execute_result"
    }
   ],
   "source": [
    "#Section 1.3\n",
    "def eval_pol_regression(parameters, x, y, degree):\n",
    "    \n",
    "    X = DataMatrix(x, degree)\n",
    "    Y = X.dot(parameters)\n",
    "    \n",
    "    #calculating rmse\n",
    "    rmse = np.sqrt(np.mean((Y - y)**2))\n",
    "    return rmse\n",
    "\n",
    "\n",
    "\n",
    "rmse_1 = eval_pol_regression(coefficients_1, x_train, y_train, 1)\n",
    "rmse_2 = eval_pol_regression(coefficients_2, x_train, y_train, 2)\n",
    "rmse_3 = eval_pol_regression(coefficients_3, x_train, y_train, 3)\n",
    "rmse_6 = eval_pol_regression(coefficients_6, x_train, y_train, 6)\n",
    "rmse_10 = eval_pol_regression(coefficients_10, x_train, y_train, 10)\n",
    "\n",
    "rmse_1, rmse_2, rmse_3, rmse_6, rmse_10"
   ]
  },
  {
   "cell_type": "code",
   "execution_count": 20,
   "id": "12105138",
   "metadata": {},
   "outputs": [],
   "source": [
    "from sklearn.model_selection import train_test_split as tts\n",
    "\n",
    "#splitting the dataset into train and test \n",
    "x_train_70, x_test, y_train_70, y_test = tts(x_train, y_train, test_size=0.3) \n",
    "\n",
    "\n",
    "#re-calculating the polynomial coefficients\n",
    "coefficients_1_2 = pol_regression(x_train_70, y_train_70, 1)\n",
    "\n",
    "coefficients_2_2 = pol_regression(x_train_70, y_train_70, 2)\n",
    "\n",
    "coefficients_3_2 = pol_regression(x_train_70, y_train_70, 3)\n",
    "\n",
    "coefficients_6_2 = pol_regression(x_train_70, y_train_70, 6)\n",
    "\n",
    "coefficients_10_2 = pol_regression(x_train_70, y_train_70, 10)\n",
    "\n",
    "#calculating train and test rmse for each degree\n",
    "train_rmse_1 = eval_pol_regression(coefficients_1_2, x_train_70, y_train_70, 1)\n",
    "test_rmse_1 = eval_pol_regression(coefficients_1_2, x_test, y_test, 1)\n",
    "train_rmse_2 = eval_pol_regression(coefficients_2_2, x_train_70, y_train_70, 2)\n",
    "test_rmse_2 = eval_pol_regression(coefficients_2_2, x_test, y_test, 2)\n",
    "train_rmse_3 = eval_pol_regression(coefficients_3_2, x_train_70, y_train_70, 3)\n",
    "test_rmse_3 = eval_pol_regression(coefficients_3_2, x_test, y_test, 3)\n",
    "train_rmse_6 = eval_pol_regression(coefficients_6_2, x_train_70, y_train_70, 6)\n",
    "test_rmse_6 = eval_pol_regression(coefficients_6_2, x_test, y_test, 6)\n",
    "train_rmse_10 = eval_pol_regression(coefficients_10_2, x_train_70, y_train_70, 10)\n",
    "test_rmse_10 = eval_pol_regression(coefficients_10_2, x_test, y_test, 10)"
   ]
  },
  {
   "cell_type": "code",
   "execution_count": 23,
   "id": "219ffe67",
   "metadata": {},
   "outputs": [
    {
     "data": {
      "text/plain": [
       "Text(0, 0.5, 'rmse')"
      ]
     },
     "execution_count": 23,
     "metadata": {},
     "output_type": "execute_result"
    },
    {
     "data": {
      "image/png": "[encoded data removed]",
      "text/plain": [
       "<Figure size 432x288 with 1 Axes>"
      ]
     },
     "metadata": {
      "needs_background": "light"
     },
     "output_type": "display_data"
    }
   ],
   "source": [
    "#building arrays to plot the data \n",
    "rmse_graph_x = [1,2,3,6,10]\n",
    "rmse_graph_train = [train_rmse_1,train_rmse_2,train_rmse_3,train_rmse_6,train_rmse_10]\n",
    "rmse_graph_test = [test_rmse_1,test_rmse_2,test_rmse_3,test_rmse_6,test_rmse_10]\n",
    "\n",
    "#plotting the data\n",
    "plt.plot(rmse_graph_x, rmse_graph_train, 'r')\n",
    "plt.plot(rmse_graph_x, rmse_graph_test, 'b')\n",
    "plt.legend(('training set rmse','test set rmse'), loc = 'upper right')\n",
    "plt.xlabel(\"Polynomial Degree\")\n",
    "plt.ylabel(\"rmse\")"
   ]
  },
  {
   "cell_type": "code",
   "execution_count": 2,
   "id": "d0950239",
   "metadata": {},
   "outputs": [],
   "source": [
    "#Section 2.1\n",
    "from copy import deepcopy as dc\n",
    "\n",
    "\n",
    "def compute_euclidean_distance(vec_1, vec_2, a=1):\n",
    "    \n",
    "    #compute euclidean distance\n",
    "    distance = np.linalg.norm(vec_1 - vec_2, axis=a)\n",
    "    return distance\n",
    "\n",
    "def  initialise_centroids(dataset, k):    \n",
    "    \n",
    "    #initialising 4 set of centroids using random numbers\n",
    "    a = np.random.randint(0, np.max(dataset), size = k)\n",
    "    b = np.random.randint(0, np.max(dataset), size = k)\n",
    "    c = np.random.randint(0, np.max(dataset), size = k)\n",
    "    d = np.random.randint(0, np.max(dataset), size = k)\n",
    "    \n",
    "    #zipping the  centroids into a 2D array\n",
    "    centroids = np.array(list(zip(a, b, c, d)), dtype=np.float32)\n",
    "    return centroids\n",
    "\n",
    "def kmeans(dataset, k):\n",
    "    \n",
    "    centroids = initialise_centroids(dataset, k)\n",
    "    centroids_old = np.zeros(centroids.shape)\n",
    "    cluster_assigned = np.zeros(len(dataset))\n",
    "    \n",
    "    #computes the error of the new centroids and the previous ones\n",
    "    error = compute_euclidean_distance(centroids, centroids_old, None)\n",
    "\n",
    "    while error != 0:\n",
    "        \n",
    "        #assigns each point to a cluster\n",
    "        for i in range(len(dataset)):\n",
    "            distances = compute_euclidean_distance(dataset[i], centroids)\n",
    "            cluster = np.argmin(distances)\n",
    "            cluster_assigned[i] = cluster\n",
    "        \n",
    "        #copies the old centroids\n",
    "        centroids_old = dc(centroids)\n",
    "        \n",
    "        #finding the new centroids by computing the mean of the points in the cluster\n",
    "        for i in range(k):\n",
    "            points = [dataset[j] for j in range(len(dataset)) if cluster_assigned[j] == i]\n",
    "            centroids[i] = np.mean(points, axis=0)\n",
    "            \n",
    "        error = compute_euclidean_distance(centroids, centroids_old, None)\n",
    "        \n",
    "    return centroids, cluster_assigned"
   ]
  },
  {
   "cell_type": "code",
   "execution_count": 3,
   "id": "07e116b7",
   "metadata": {
    "scrolled": false
   },
   "outputs": [
    {
     "data": {
      "text/plain": [
       "(     height  tail length  leg length  nose circumference\n",
       " 0     5.151        3.535       1.414               0.202\n",
       " 1     4.949        3.030       1.414               0.202\n",
       " 2     4.747        3.232       1.313               0.202\n",
       " 3     4.646        3.131       1.515               0.202\n",
       " 4     5.050        3.636       1.414               0.202\n",
       " ..      ...          ...         ...                 ...\n",
       " 295   6.834        3.060       5.304               2.346\n",
       " 296   6.426        2.550       5.100               1.938\n",
       " 297   6.630        3.060       5.304               2.040\n",
       " 298   6.324        3.468       5.508               2.346\n",
       " 299   6.018        3.060       5.202               1.836\n",
       " \n",
       " [300 rows x 4 columns],\n",
       " array([[5.151, 3.535, 1.414, 0.202],\n",
       "        [4.949, 3.03 , 1.414, 0.202],\n",
       "        [4.747, 3.232, 1.313, 0.202],\n",
       "        ...,\n",
       "        [6.63 , 3.06 , 5.304, 2.04 ],\n",
       "        [6.324, 3.468, 5.508, 2.346],\n",
       "        [6.018, 3.06 , 5.202, 1.836]]))"
      ]
     },
     "execution_count": 3,
     "metadata": {},
     "output_type": "execute_result"
    }
   ],
   "source": [
    "#Section 2 - Data Preparation\n",
    "\n",
    "km_data_pd = pd.read_csv(\"Task2 - dataset - dog_breeds.csv\")\n",
    "\n",
    "height = km_data_pd['height'].values\n",
    "tLength = km_data_pd['tail length'].values\n",
    "lLength = km_data_pd['leg length'].values\n",
    "nCirc = km_data_pd['nose circumference'].values\n",
    "\n",
    "km_data = np.array(list(zip(height, tLength, lLength, nCirc)))\n",
    "km_data_pd, km_data"
   ]
  },
  {
   "cell_type": "code",
   "execution_count": 4,
   "id": "43922021",
   "metadata": {
    "scrolled": true
   },
   "outputs": [
    {
     "data": {
      "text/plain": [
       "(array([[5.080745  , 3.4203584 , 1.583783  , 0.29492453],\n",
       "        [6.3955464 , 2.9298968 , 5.0331445 , 1.7213144 ]], dtype=float32),\n",
       " array([0., 0., 0., 0., 0., 0., 0., 0., 0., 0., 0., 0., 0., 0., 0., 0., 0.,\n",
       "        0., 0., 0., 0., 0., 0., 0., 0., 0., 0., 0., 0., 0., 0., 0., 0., 0.,\n",
       "        0., 0., 0., 0., 0., 0., 0., 0., 0., 0., 0., 0., 0., 0., 0., 0., 1.,\n",
       "        1., 1., 1., 1., 1., 1., 0., 1., 1., 1., 1., 1., 1., 1., 1., 1., 1.,\n",
       "        1., 1., 1., 1., 1., 1., 1., 1., 1., 1., 1., 1., 1., 1., 1., 1., 1.,\n",
       "        1., 1., 1., 1., 1., 1., 1., 1., 0., 1., 1., 1., 1., 0., 1., 1., 1.,\n",
       "        1., 1., 1., 1., 1., 1., 1., 1., 1., 1., 1., 1., 1., 1., 1., 1., 1.,\n",
       "        1., 1., 1., 1., 1., 1., 1., 1., 1., 1., 1., 1., 1., 1., 1., 1., 1.,\n",
       "        1., 1., 1., 1., 1., 1., 1., 1., 1., 1., 1., 1., 1., 1., 0., 0., 0.,\n",
       "        0., 0., 0., 0., 0., 0., 0., 0., 0., 0., 0., 0., 0., 0., 0., 0., 0.,\n",
       "        0., 0., 0., 0., 0., 0., 0., 0., 0., 0., 0., 0., 0., 0., 0., 0., 0.,\n",
       "        0., 0., 0., 0., 0., 0., 0., 0., 0., 0., 0., 0., 0., 1., 1., 1., 1.,\n",
       "        1., 1., 1., 0., 1., 1., 1., 1., 1., 1., 1., 1., 1., 1., 1., 1., 1.,\n",
       "        1., 1., 1., 1., 1., 1., 1., 1., 1., 1., 1., 1., 1., 1., 1., 1., 1.,\n",
       "        1., 1., 1., 1., 1., 0., 1., 1., 1., 1., 0., 1., 1., 1., 1., 1., 1.,\n",
       "        1., 1., 1., 1., 1., 1., 1., 1., 1., 1., 1., 1., 1., 1., 1., 1., 1.,\n",
       "        1., 1., 1., 1., 1., 1., 1., 1., 1., 1., 1., 1., 1., 1., 1., 1., 1.,\n",
       "        1., 1., 1., 1., 1., 1., 1., 1., 1., 1., 1.]))"
      ]
     },
     "execution_count": 4,
     "metadata": {},
     "output_type": "execute_result"
    }
   ],
   "source": [
    "#Section 2.2\n",
    "\n",
    "centroids_k2 , clusters_k2 = kmeans(km_data, 2)\n",
    "centroids_k2 , clusters_k2"
   ]
  },
  {
   "cell_type": "code",
   "execution_count": 5,
   "id": "7385b1c6",
   "metadata": {},
   "outputs": [
    {
     "data": {
      "text/plain": [
       "Text(0, 0.5, 'Tail Lenght')"
      ]
     },
     "execution_count": 5,
     "metadata": {},
     "output_type": "execute_result"
    },
    {
     "data": {
      "image/png": "[encoded data removed]",
      "text/plain": [
       "<Figure size 432x288 with 1 Axes>"
      ]
     },
     "metadata": {
      "needs_background": "light"
     },
     "output_type": "display_data"
    }
   ],
   "source": [
    "colors = ['b','r','g']\n",
    "\n",
    "plt.plot()\n",
    "i=0\n",
    "for cluster in clusters_k2:\n",
    "    plt.scatter(height[i], tLength[i], s=7, c=colors[int(cluster)])\n",
    "    i+=1\n",
    "plt.scatter(centroids_k2[:, 0], centroids_k2[:, 1], marker='*', s=200, c='k')\n",
    "plt.xlabel(\"Height\")\n",
    "plt.ylabel(\"Tail Lenght\")"
   ]
  },
  {
   "cell_type": "code",
   "execution_count": 6,
   "id": "109884cc",
   "metadata": {},
   "outputs": [
    {
     "data": {
      "text/plain": [
       "Text(0, 0.5, 'Leg Lenght')"
      ]
     },
     "execution_count": 6,
     "metadata": {},
     "output_type": "execute_result"
    },
    {
     "data": {
      "image/png": "[encoded data removed]",
      "text/plain": [
       "<Figure size 432x288 with 1 Axes>"
      ]
     },
     "metadata": {
      "needs_background": "light"
     },
     "output_type": "display_data"
    }
   ],
   "source": [
    "plt.plot()\n",
    "i=0\n",
    "for cluster in clusters_k2:\n",
    "    plt.scatter(height[i], lLength[i], s=7, c=colors[int(cluster)])\n",
    "    i+=1\n",
    "plt.scatter(centroids_k2[:, 0], centroids_k2[:, 2], marker='*', s=200, c='k')\n",
    "plt.xlabel(\"Height\")\n",
    "plt.ylabel(\"Leg Lenght\")"
   ]
  },
  {
   "cell_type": "code",
   "execution_count": 13,
   "id": "c4d3f57f",
   "metadata": {
    "scrolled": true
   },
   "outputs": [
    {
     "data": {
      "text/plain": [
       "(array([[5.08109  , 3.47942  , 1.48393  , 0.24969  ],\n",
       "        [5.9807887, 2.785756 , 4.456732 , 1.4556016],\n",
       "        [6.9551816, 3.1216624, 5.814805 , 2.0933635]], dtype=float32),\n",
       " array([0., 0., 0., 0., 0., 0., 0., 0., 0., 0., 0., 0., 0., 0., 0., 0., 0.,\n",
       "        0., 0., 0., 0., 0., 0., 0., 0., 0., 0., 0., 0., 0., 0., 0., 0., 0.,\n",
       "        0., 0., 0., 0., 0., 0., 0., 0., 0., 0., 0., 0., 0., 0., 0., 0., 1.,\n",
       "        1., 2., 1., 1., 1., 1., 1., 1., 1., 1., 1., 1., 1., 1., 1., 1., 1.,\n",
       "        1., 1., 1., 1., 1., 1., 1., 1., 1., 2., 1., 1., 1., 1., 1., 1., 1.,\n",
       "        1., 1., 1., 1., 1., 1., 1., 1., 1., 1., 1., 1., 1., 1., 1., 2., 1.,\n",
       "        2., 2., 2., 2., 1., 2., 2., 2., 2., 2., 2., 1., 1., 2., 2., 2., 2.,\n",
       "        1., 2., 1., 2., 1., 2., 2., 1., 1., 2., 2., 2., 2., 2., 1., 2., 2.,\n",
       "        2., 2., 1., 2., 2., 2., 1., 2., 2., 2., 1., 2., 2., 1., 0., 0., 0.,\n",
       "        0., 0., 0., 0., 0., 0., 0., 0., 0., 0., 0., 0., 0., 0., 0., 0., 0.,\n",
       "        0., 0., 0., 0., 0., 0., 0., 0., 0., 0., 0., 0., 0., 0., 0., 0., 0.,\n",
       "        0., 0., 0., 0., 0., 0., 0., 0., 0., 0., 0., 0., 0., 2., 1., 2., 1.,\n",
       "        1., 1., 1., 1., 1., 1., 1., 1., 1., 1., 1., 1., 1., 1., 1., 1., 1.,\n",
       "        1., 1., 1., 1., 1., 1., 2., 1., 1., 1., 1., 1., 1., 1., 1., 1., 1.,\n",
       "        1., 1., 1., 1., 1., 1., 1., 1., 1., 1., 1., 1., 2., 1., 2., 2., 2.,\n",
       "        2., 1., 2., 2., 2., 2., 2., 2., 1., 1., 2., 2., 2., 2., 1., 2., 1.,\n",
       "        2., 1., 2., 2., 1., 1., 2., 2., 2., 2., 2., 1., 2., 2., 2., 2., 1.,\n",
       "        2., 2., 2., 1., 2., 2., 2., 1., 2., 2., 1.]))"
      ]
     },
     "execution_count": 13,
     "metadata": {},
     "output_type": "execute_result"
    }
   ],
   "source": [
    "centroids_k3 , clusters_k3 = kmeans(km_data, 3)\n",
    "centroids_k3 , clusters_k3"
   ]
  },
  {
   "cell_type": "code",
   "execution_count": 14,
   "id": "fba2d37a",
   "metadata": {},
   "outputs": [
    {
     "data": {
      "text/plain": [
       "Text(0, 0.5, 'Tail Lenght')"
      ]
     },
     "execution_count": 14,
     "metadata": {},
     "output_type": "execute_result"
    },
    {
     "data": {
      "image/png": "[encoded data removed]",
      "text/plain": [
       "<Figure size 432x288 with 1 Axes>"
      ]
     },
     "metadata": {
      "needs_background": "light"
     },
     "output_type": "display_data"
    }
   ],
   "source": [
    "colors = ['b','r','g']\n",
    "\n",
    "plt.plot()\n",
    "i=0\n",
    "for cluster in clusters_k3:\n",
    "    plt.scatter(height[i], tLength[i], s=7, c=colors[int(cluster)])\n",
    "    i+=1\n",
    "plt.scatter(centroids_k3[:, 0], centroids_k3[:, 1], marker='*', s=200, c='k')\n",
    "plt.xlabel(\"Height\")\n",
    "plt.ylabel(\"Tail Lenght\")"
   ]
  },
  {
   "cell_type": "code",
   "execution_count": 15,
   "id": "cfc41a72",
   "metadata": {},
   "outputs": [
    {
     "data": {
      "text/plain": [
       "Text(0, 0.5, 'Leg Lenght')"
      ]
     },
     "execution_count": 15,
     "metadata": {},
     "output_type": "execute_result"
    },
    {
     "data": {
      "image/png": "[encoded data removed]",
      "text/plain": [
       "<Figure size 432x288 with 1 Axes>"
      ]
     },
     "metadata": {
      "needs_background": "light"
     },
     "output_type": "display_data"
    }
   ],
   "source": [
    "plt.plot()\n",
    "i=0\n",
    "for cluster in clusters_k3:\n",
    "    plt.scatter(height[i], lLength[i], s=7, c=colors[int(cluster)])\n",
    "    i+=1\n",
    "plt.scatter(centroids_k3[:, 0], centroids_k3[:, 2], marker='*', s=200, c='k')\n",
    "plt.xlabel(\"Height\")\n",
    "plt.ylabel(\"Leg Lenght\")"
   ]
  },
  {
   "cell_type": "code",
   "execution_count": 6,
   "id": "de9b711b",
   "metadata": {},
   "outputs": [
    {
     "data": {
      "text/html": [
       "<div>\n",
       "<style scoped>\n",
       "    .dataframe tbody tr th:only-of-type {\n",
       "        vertical-align: middle;\n",
       "    }\n",
       "\n",
       "    .dataframe tbody tr th {\n",
       "        vertical-align: top;\n",
       "    }\n",
       "\n",
       "    .dataframe thead th {\n",
       "        text-align: right;\n",
       "    }\n",
       "</style>\n",
       "<table border=\"1\" class=\"dataframe\">\n",
       "  <thead>\n",
       "    <tr style=\"text-align: right;\">\n",
       "      <th></th>\n",
       "      <th>Image number</th>\n",
       "      <th>Bifurcation number</th>\n",
       "      <th>Artery (1)/ Vein (2)</th>\n",
       "      <th>Alpha</th>\n",
       "      <th>Beta</th>\n",
       "      <th>Lambda</th>\n",
       "      <th>Lambda1</th>\n",
       "      <th>Lambda2</th>\n",
       "      <th>Participant Condition</th>\n",
       "    </tr>\n",
       "  </thead>\n",
       "  <tbody>\n",
       "    <tr>\n",
       "      <th>0</th>\n",
       "      <td>1</td>\n",
       "      <td>1</td>\n",
       "      <td>1</td>\n",
       "      <td>0.600099</td>\n",
       "      <td>2.141185</td>\n",
       "      <td>0.774660</td>\n",
       "      <td>1.156788</td>\n",
       "      <td>0.896118</td>\n",
       "      <td>Patient</td>\n",
       "    </tr>\n",
       "    <tr>\n",
       "      <th>1</th>\n",
       "      <td>1</td>\n",
       "      <td>2</td>\n",
       "      <td>1</td>\n",
       "      <td>0.822612</td>\n",
       "      <td>1.835858</td>\n",
       "      <td>0.906980</td>\n",
       "      <td>1.003627</td>\n",
       "      <td>0.910269</td>\n",
       "      <td>Patient</td>\n",
       "    </tr>\n",
       "    <tr>\n",
       "      <th>2</th>\n",
       "      <td>1</td>\n",
       "      <td>3</td>\n",
       "      <td>1</td>\n",
       "      <td>0.862658</td>\n",
       "      <td>1.770032</td>\n",
       "      <td>0.928794</td>\n",
       "      <td>0.974819</td>\n",
       "      <td>0.905406</td>\n",
       "      <td>Patient</td>\n",
       "    </tr>\n",
       "    <tr>\n",
       "      <th>3</th>\n",
       "      <td>1</td>\n",
       "      <td>4</td>\n",
       "      <td>1</td>\n",
       "      <td>0.807950</td>\n",
       "      <td>1.373153</td>\n",
       "      <td>0.898860</td>\n",
       "      <td>0.871498</td>\n",
       "      <td>0.783355</td>\n",
       "      <td>Patient</td>\n",
       "    </tr>\n",
       "    <tr>\n",
       "      <th>4</th>\n",
       "      <td>1</td>\n",
       "      <td>5</td>\n",
       "      <td>1</td>\n",
       "      <td>0.742544</td>\n",
       "      <td>1.332164</td>\n",
       "      <td>0.861710</td>\n",
       "      <td>0.874353</td>\n",
       "      <td>0.753439</td>\n",
       "      <td>Patient</td>\n",
       "    </tr>\n",
       "    <tr>\n",
       "      <th>...</th>\n",
       "      <td>...</td>\n",
       "      <td>...</td>\n",
       "      <td>...</td>\n",
       "      <td>...</td>\n",
       "      <td>...</td>\n",
       "      <td>...</td>\n",
       "      <td>...</td>\n",
       "      <td>...</td>\n",
       "      <td>...</td>\n",
       "    </tr>\n",
       "    <tr>\n",
       "      <th>3209</th>\n",
       "      <td>203</td>\n",
       "      <td>3</td>\n",
       "      <td>2</td>\n",
       "      <td>0.180108</td>\n",
       "      <td>1.133420</td>\n",
       "      <td>0.424391</td>\n",
       "      <td>0.980019</td>\n",
       "      <td>0.415912</td>\n",
       "      <td>Patient</td>\n",
       "    </tr>\n",
       "    <tr>\n",
       "      <th>3210</th>\n",
       "      <td>203</td>\n",
       "      <td>4</td>\n",
       "      <td>2</td>\n",
       "      <td>0.791547</td>\n",
       "      <td>1.386333</td>\n",
       "      <td>0.889690</td>\n",
       "      <td>0.879670</td>\n",
       "      <td>0.782633</td>\n",
       "      <td>Patient</td>\n",
       "    </tr>\n",
       "    <tr>\n",
       "      <th>3211</th>\n",
       "      <td>203</td>\n",
       "      <td>5</td>\n",
       "      <td>2</td>\n",
       "      <td>0.232715</td>\n",
       "      <td>1.190652</td>\n",
       "      <td>0.482406</td>\n",
       "      <td>0.982791</td>\n",
       "      <td>0.474104</td>\n",
       "      <td>Patient</td>\n",
       "    </tr>\n",
       "    <tr>\n",
       "      <th>3212</th>\n",
       "      <td>203</td>\n",
       "      <td>6</td>\n",
       "      <td>2</td>\n",
       "      <td>0.746027</td>\n",
       "      <td>1.183473</td>\n",
       "      <td>0.863729</td>\n",
       "      <td>0.823292</td>\n",
       "      <td>0.711101</td>\n",
       "      <td>Patient</td>\n",
       "    </tr>\n",
       "    <tr>\n",
       "      <th>3213</th>\n",
       "      <td>203</td>\n",
       "      <td>7</td>\n",
       "      <td>2</td>\n",
       "      <td>0.668215</td>\n",
       "      <td>1.781838</td>\n",
       "      <td>0.817444</td>\n",
       "      <td>1.033494</td>\n",
       "      <td>0.844824</td>\n",
       "      <td>Patient</td>\n",
       "    </tr>\n",
       "  </tbody>\n",
       "</table>\n",
       "<p>3214 rows × 9 columns</p>\n",
       "</div>"
      ],
      "text/plain": [
       "      Image number  Bifurcation number  Artery (1)/ Vein (2)     Alpha  \\\n",
       "0                1                   1                     1  0.600099   \n",
       "1                1                   2                     1  0.822612   \n",
       "2                1                   3                     1  0.862658   \n",
       "3                1                   4                     1  0.807950   \n",
       "4                1                   5                     1  0.742544   \n",
       "...            ...                 ...                   ...       ...   \n",
       "3209           203                   3                     2  0.180108   \n",
       "3210           203                   4                     2  0.791547   \n",
       "3211           203                   5                     2  0.232715   \n",
       "3212           203                   6                     2  0.746027   \n",
       "3213           203                   7                     2  0.668215   \n",
       "\n",
       "          Beta    Lambda   Lambda1   Lambda2 Participant Condition  \n",
       "0     2.141185  0.774660  1.156788  0.896118               Patient  \n",
       "1     1.835858  0.906980  1.003627  0.910269               Patient  \n",
       "2     1.770032  0.928794  0.974819  0.905406               Patient  \n",
       "3     1.373153  0.898860  0.871498  0.783355               Patient  \n",
       "4     1.332164  0.861710  0.874353  0.753439               Patient  \n",
       "...        ...       ...       ...       ...                   ...  \n",
       "3209  1.133420  0.424391  0.980019  0.415912               Patient  \n",
       "3210  1.386333  0.889690  0.879670  0.782633               Patient  \n",
       "3211  1.190652  0.482406  0.982791  0.474104               Patient  \n",
       "3212  1.183473  0.863729  0.823292  0.711101               Patient  \n",
       "3213  1.781838  0.817444  1.033494  0.844824               Patient  \n",
       "\n",
       "[3214 rows x 9 columns]"
      ]
     },
     "execution_count": 6,
     "metadata": {},
     "output_type": "execute_result"
    }
   ],
   "source": [
    "#Section 3\n",
    "\n",
    "#Data loading\n",
    "hiv_data = pd.read_csv(\"Task3 - dataset - HIV RVG.csv\")\n",
    "hiv_data"
   ]
  },
  {
   "cell_type": "code",
   "execution_count": 8,
   "id": "d772a6cf",
   "metadata": {},
   "outputs": [
    {
     "name": "stdout",
     "output_type": "stream",
     "text": [
      "       Image number  Bifurcation number  Artery (1)/ Vein (2)        Alpha  \\\n",
      "count   3214.000000         3214.000000           3214.000000  3214.000000   \n",
      "mean     107.355009            6.220597              1.573118     0.615305   \n",
      "std       58.933207            4.103341              0.494702     0.265245   \n",
      "min        1.000000            1.000000              1.000000     0.092770   \n",
      "25%       59.000000            3.000000              1.000000     0.402405   \n",
      "50%      109.000000            5.000000              2.000000     0.620978   \n",
      "75%      159.000000            9.000000              2.000000     0.809738   \n",
      "max      203.000000           25.000000              2.000000     2.356406   \n",
      "\n",
      "              Beta       Lambda      Lambda1      Lambda2  \n",
      "count  3214.000000  3214.000000  3214.000000  3214.000000  \n",
      "mean      1.556093     0.765141     0.981465     0.741929  \n",
      "std       0.387726     0.172840     0.130492     0.159205  \n",
      "min       0.283299     0.304582     0.390920     0.309526  \n",
      "25%       1.288568     0.634354     0.911793     0.618765  \n",
      "50%       1.515562     0.788022     0.984015     0.756226  \n",
      "75%       1.799743     0.899854     1.056204     0.865304  \n",
      "max       3.376731     1.535059     1.467637     1.246102  \n"
     ]
    }
   ],
   "source": [
    "#Data Summary\n",
    "print(hiv_data.describe())"
   ]
  },
  {
   "cell_type": "code",
   "execution_count": 23,
   "id": "a9aed014",
   "metadata": {},
   "outputs": [
    {
     "data": {
      "text/plain": [
       "<AxesSubplot:title={'center':'Alpha'}, xlabel='Participant Condition'>"
      ]
     },
     "execution_count": 23,
     "metadata": {},
     "output_type": "execute_result"
    },
    {
     "data": {
      "image/png": "[encoded data removed]",
      "text/plain": [
       "<Figure size 432x288 with 1 Axes>"
      ]
     },
     "metadata": {
      "needs_background": "light"
     },
     "output_type": "display_data"
    }
   ],
   "source": [
    "#Boxplot\n",
    "hiv_data.boxplot(by='Participant Condition',column=['Alpha'])"
   ]
  },
  {
   "cell_type": "code",
   "execution_count": 36,
   "id": "ca946dba",
   "metadata": {},
   "outputs": [
    {
     "data": {
      "text/plain": [
       "<AxesSubplot:ylabel='Density'>"
      ]
     },
     "execution_count": 36,
     "metadata": {},
     "output_type": "execute_result"
    },
    {
     "data": {
      "image/png": "[encoded data removed]",
      "text/plain": [
       "<Figure size 432x288 with 1 Axes>"
      ]
     },
     "metadata": {
      "needs_background": "light"
     },
     "output_type": "display_data"
    }
   ],
   "source": [
    "hiv_data_patient = hiv_data.loc[hiv_data['Participant Condition'] == \"Patient\"]\n",
    "hiv_data_control = hiv_data.loc[hiv_data['Participant Condition'] == \"Control\"]\n",
    "\n",
    "hiv_data_patient['Beta'].plot.density(color='blue')\n",
    "hiv_data_control['Beta'].plot.density(color='red')"
   ]
  },
  {
   "cell_type": "code",
   "execution_count": 13,
   "id": "a10c11c6",
   "metadata": {},
   "outputs": [
    {
     "ename": "ValueError",
     "evalue": "not enough values to unpack (expected 4, got 2)",
     "output_type": "error",
     "traceback": [
      "\u001b[1;31m---------------------------------------------------------------------------\u001b[0m",
      "\u001b[1;31mValueError\u001b[0m                                Traceback (most recent call last)",
      "\u001b[1;32m<ipython-input-13-fdb8c7e0a728>\u001b[0m in \u001b[0;36m<module>\u001b[1;34m\u001b[0m\n\u001b[0;32m      1\u001b[0m \u001b[1;31m#Data Splits\u001b[0m\u001b[1;33m\u001b[0m\u001b[1;33m\u001b[0m\u001b[1;33m\u001b[0m\u001b[0m\n\u001b[0;32m      2\u001b[0m \u001b[1;32mfrom\u001b[0m \u001b[0msklearn\u001b[0m\u001b[1;33m.\u001b[0m\u001b[0mmodel_selection\u001b[0m \u001b[1;32mimport\u001b[0m \u001b[0mtrain_test_split\u001b[0m\u001b[1;33m\u001b[0m\u001b[1;33m\u001b[0m\u001b[0m\n\u001b[1;32m----> 3\u001b[1;33m \u001b[0mx_train\u001b[0m\u001b[1;33m,\u001b[0m \u001b[0mx_test\u001b[0m\u001b[1;33m,\u001b[0m \u001b[0my_train\u001b[0m\u001b[1;33m,\u001b[0m \u001b[0my_test\u001b[0m \u001b[1;33m=\u001b[0m \u001b[0mtrain_test_split\u001b[0m\u001b[1;33m(\u001b[0m\u001b[0mhiv_data\u001b[0m\u001b[1;33m,\u001b[0m\u001b[0mtest_size\u001b[0m\u001b[1;33m=\u001b[0m\u001b[1;36m0.1\u001b[0m\u001b[1;33m)\u001b[0m\u001b[1;33m\u001b[0m\u001b[1;33m\u001b[0m\u001b[0m\n\u001b[0m\u001b[0;32m      4\u001b[0m \u001b[0mtrain\u001b[0m\u001b[1;33m,\u001b[0m \u001b[0mtest\u001b[0m\u001b[1;33m\u001b[0m\u001b[1;33m\u001b[0m\u001b[0m\n",
      "\u001b[1;31mValueError\u001b[0m: not enough values to unpack (expected 4, got 2)"
     ]
    }
   ],
   "source": [
    "#Data Splits\n",
    "from sklearn.model_selection import train_test_split\n",
    "x_train, x_test, y_train, y_test = train_test_split(hiv_data,test_size=0.1) \n",
    "train, test"
   ]
  },
  {
   "cell_type": "code",
   "execution_count": 14,
   "id": "c6d0469e",
   "metadata": {},
   "outputs": [],
   "source": [
    "#Task 3.2 - Ramdom Forests Classifications\n",
    "from sklearn.ensemble import RandomForestClassifier \n",
    "\n",
    "#Initialise two RFQs with 1000 trees each and 5 and 10 min_samples_leaf respectively \n",
    "clf_2_5 = RandomForestClassifier(n_estimators = 1000, min_samples_leaf = 5)\n",
    "clf_2_10 = RandomForestClassifier(n_estimators = 1000, min_samples_leaf = 10)\n",
    "\n",
    "#clf_2_5.fit\n"
   ]
  }
 ],
 "metadata": {
  "kernelspec": {
   "display_name": "Python 3",
   "language": "python",
   "name": "python3"
  },
  "language_info": {
   "codemirror_mode": {
    "name": "ipython",
    "version": 3
   },
   "file_extension": ".py",
   "mimetype": "text/x-python",
   "name": "python",
   "nbconvert_exporter": "python",
   "pygments_lexer": "ipython3",
   "version": "3.8.8"
  }
 },
 "nbformat": 4,
 "nbformat_minor": 5
}
